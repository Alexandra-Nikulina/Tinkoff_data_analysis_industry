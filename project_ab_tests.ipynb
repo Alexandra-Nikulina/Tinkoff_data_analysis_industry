{
 "cells": [
  {
   "cell_type": "code",
   "execution_count": 1,
   "id": "cd7cc848",
   "metadata": {},
   "outputs": [],
   "source": [
    "import pandas as pd \n",
    "import numpy as np \n",
    "from scipy import stats as st\n",
    "from scipy.stats import norm, ttest_ind, anderson_ksamp\n",
    "import matplotlib.pyplot as plt\n",
    "from statsmodels.stats.power import tt_ind_solve_power \n",
    "from statsmodels.graphics.gofplots import qqplot\n",
    "from statsmodels.stats.proportion import proportions_ztest\n",
    "import pylab "
   ]
  },
  {
   "cell_type": "markdown",
   "id": "96ac1922",
   "metadata": {
    "id": "96ac1922"
   },
   "source": [
    "# Проект по A/B - тестам."
   ]
  },
  {
   "cell_type": "code",
   "execution_count": 2,
   "id": "Of7L1OK6jEKT",
   "metadata": {
    "id": "Of7L1OK6jEKT"
   },
   "outputs": [],
   "source": [
    "#`chat_id ` из Телеграма:\n",
    "chat_id = 1003183520"
   ]
  },
  {
   "cell_type": "markdown",
   "id": "d8c6f14f",
   "metadata": {
    "id": "d8c6f14f"
   },
   "source": [
    "##  <ins>Задание 1.</ins>"
   ]
  },
  {
   "cell_type": "markdown",
   "id": "91868cdc",
   "metadata": {},
   "source": [
    "**Общее описание**\n",
    "\n",
    "В этом задании необходимо провести A/B тест на процессе продажных обзвонов. Алгоритм решения задачи следующий:\n",
    "\n",
    "- Напишите боту @TFDataAnalysisBot команду /get_project1_desc. Так вы получите условие и файл с историческими данными.\n",
    "- Определите целевую метрику и альтернативу.\n",
    "- Исходя из исторических данных, определите минимальный размер n одной выборки.\n",
    "- Напишите боту команду /get_project1_sample n, где n - минимальный размер выборки.\n",
    "- Примените критерий и сделайте вывод об успешности или неуспешности теста.\n",
    "\n",
    "**Описание данных**\n",
    "\n",
    "Процесс продажи устроен следующим образом:\n",
    "\n",
    "- создаётся задание на звонок человеку;\n",
    "- оператор берёт задание и пытается дозвониться до человека;\n",
    "- если не дозванивается, мы несём некоторые затраты на время оператора и поддержку инфраструктуры;\n",
    "- если дозванивается, пытается продать наш продукт;\n",
    "- если продал, мы имеем некоторый заработок (PV) и повышенные расходы (в том числе на вознаграждение оператора).\n",
    "\n",
    "**Описание колонок в исторических данных**\n",
    "\n",
    "- ID - номер задания на звонок\n",
    "- Флаг дозвона - 1 если в рамках задания мы дозвонились человеку, иначе 0\n",
    "- Флаг продажи - 1 если в рамках задания мы продали наш продукт человеку, иначе 0\n",
    "- Расходы - сумма затрат на задание\n",
    "- PV - 0 если мы не продали наш продукт, иначе = PV проданного продукта\n",
    "- NPV = PV - Расходы"
   ]
  },
  {
   "cell_type": "markdown",
   "id": "cMi1ZWvej6zB",
   "metadata": {
    "id": "cMi1ZWvej6zB"
   },
   "source": [
    "### 0. Запрос у бота в Телеграме условие командой `/get_project1_desc`"
   ]
  },
  {
   "cell_type": "markdown",
   "id": "58daac9e",
   "metadata": {},
   "source": [
    "**Контекст**\n",
    "\n",
    "Мы считаем, что наш продукт достаточно дорогой для клиента.\n",
    "У нас есть гипотеза, что уменьшение цены продукта\n",
    "позволит повысить частоту продаж\n",
    "и суммарно увеличит доходность продукта.\n",
    "        \n",
    "**Тест**\n",
    "\n",
    "Мы проводим тест,\n",
    "в рамках которого контролем является\n",
    "продажа продукта со старой ценой,\n",
    "а тестом - продажа продукта с новой ценой.\n",
    "Целью этого теста\n",
    "является проверка гипотезы роста доходности\n",
    "нашего продукта из-за уменьшения тарифа.\n",
    "\n",
    "Статистические вводные:\n",
    "- Уровень значимости 5%.\n",
    "- Мы хотели бы различать 5%-ное\n",
    "изменение целевой метрики\n",
    "с вероятностью 80%."
   ]
  },
  {
   "cell_type": "markdown",
   "id": "0dd4c840",
   "metadata": {
    "id": "0dd4c840"
   },
   "source": [
    "### 1. Выбор метрик"
   ]
  },
  {
   "cell_type": "markdown",
   "id": "303ee202",
   "metadata": {},
   "source": [
    "В качестве целевой метрики возьмем NPV, так как она учитывает расходы. Мы уменьшаем стоимость продукта, поэтому надо следить за \"чистой\" прибылью. PV в качестве целевой метрики не подходит, так как доход может увеличиться, а Profit (чистая прибыль) может упасть. \n",
    "\n",
    "В качестве контрольной метрики возьмем количество успешных сделок (столбец - флаг продажи). Количество успешных сделок в группе B не должно быть меньше чем в группе А."
   ]
  },
  {
   "cell_type": "markdown",
   "id": "b644cd0a",
   "metadata": {
    "id": "b644cd0a"
   },
   "source": [
    "### 2. Альтернатива в критерии"
   ]
  },
  {
   "cell_type": "markdown",
   "id": "c8694a4f",
   "metadata": {
    "id": "KFMpcB0mjJXN"
   },
   "source": [
    "H0: Среднее NPV группы А больше или равно среднему NPV группы В. \n",
    "\n",
    "H1: Среднее NPV группы А меньше среднего NPV группы В. \n",
    "\n",
    "$H_0 : \\bar{x}_{A} >= \\bar{x}_{B}$ \n",
    "\n",
    "$H_1 : \\bar{x}_{A} < \\bar{x}_{B}$"
   ]
  },
  {
   "cell_type": "markdown",
   "id": "727aefc4",
   "metadata": {
    "id": "727aefc4"
   },
   "source": [
    "### 3.1. Рассчет размера выборки"
   ]
  },
  {
   "cell_type": "code",
   "execution_count": 3,
   "id": "vG7kmtMEjHOU",
   "metadata": {
    "id": "vG7kmtMEjHOU",
    "scrolled": true
   },
   "outputs": [
    {
     "data": {
      "text/html": [
       "<div>\n",
       "<style scoped>\n",
       "    .dataframe tbody tr th:only-of-type {\n",
       "        vertical-align: middle;\n",
       "    }\n",
       "\n",
       "    .dataframe tbody tr th {\n",
       "        vertical-align: top;\n",
       "    }\n",
       "\n",
       "    .dataframe thead th {\n",
       "        text-align: right;\n",
       "    }\n",
       "</style>\n",
       "<table border=\"1\" class=\"dataframe\">\n",
       "  <thead>\n",
       "    <tr style=\"text-align: right;\">\n",
       "      <th></th>\n",
       "      <th>ID</th>\n",
       "      <th>Флаг дозвона</th>\n",
       "      <th>Флаг продажи</th>\n",
       "      <th>Расходы</th>\n",
       "      <th>PV</th>\n",
       "      <th>NPV</th>\n",
       "    </tr>\n",
       "  </thead>\n",
       "  <tbody>\n",
       "    <tr>\n",
       "      <th>0</th>\n",
       "      <td>0</td>\n",
       "      <td>1</td>\n",
       "      <td>0</td>\n",
       "      <td>90</td>\n",
       "      <td>0</td>\n",
       "      <td>-90</td>\n",
       "    </tr>\n",
       "    <tr>\n",
       "      <th>1</th>\n",
       "      <td>1</td>\n",
       "      <td>0</td>\n",
       "      <td>0</td>\n",
       "      <td>5</td>\n",
       "      <td>0</td>\n",
       "      <td>-5</td>\n",
       "    </tr>\n",
       "    <tr>\n",
       "      <th>2</th>\n",
       "      <td>2</td>\n",
       "      <td>0</td>\n",
       "      <td>0</td>\n",
       "      <td>68</td>\n",
       "      <td>0</td>\n",
       "      <td>-68</td>\n",
       "    </tr>\n",
       "    <tr>\n",
       "      <th>3</th>\n",
       "      <td>3</td>\n",
       "      <td>1</td>\n",
       "      <td>0</td>\n",
       "      <td>22</td>\n",
       "      <td>0</td>\n",
       "      <td>-22</td>\n",
       "    </tr>\n",
       "    <tr>\n",
       "      <th>4</th>\n",
       "      <td>4</td>\n",
       "      <td>1</td>\n",
       "      <td>0</td>\n",
       "      <td>22</td>\n",
       "      <td>0</td>\n",
       "      <td>-22</td>\n",
       "    </tr>\n",
       "  </tbody>\n",
       "</table>\n",
       "</div>"
      ],
      "text/plain": [
       "   ID  Флаг дозвона  Флаг продажи  Расходы  PV  NPV\n",
       "0   0             1             0       90   0  -90\n",
       "1   1             0             0        5   0   -5\n",
       "2   2             0             0       68   0  -68\n",
       "3   3             1             0       22   0  -22\n",
       "4   4             1             0       22   0  -22"
      ]
     },
     "execution_count": 3,
     "metadata": {},
     "output_type": "execute_result"
    }
   ],
   "source": [
    "# историчесокие данные \n",
    "\n",
    "df_hist = pd.read_csv('hist_telesales.csv')\n",
    "df_hist.head()"
   ]
  },
  {
   "cell_type": "code",
   "execution_count": 4,
   "id": "03b516af",
   "metadata": {
    "scrolled": true
   },
   "outputs": [
    {
     "name": "stdout",
     "output_type": "stream",
     "text": [
      "<class 'pandas.core.frame.DataFrame'>\n",
      "RangeIndex: 72161 entries, 0 to 72160\n",
      "Data columns (total 6 columns):\n",
      " #   Column        Non-Null Count  Dtype\n",
      "---  ------        --------------  -----\n",
      " 0   ID            72161 non-null  int64\n",
      " 1   Флаг дозвона  72161 non-null  int64\n",
      " 2   Флаг продажи  72161 non-null  int64\n",
      " 3   Расходы       72161 non-null  int64\n",
      " 4   PV            72161 non-null  int64\n",
      " 5   NPV           72161 non-null  int64\n",
      "dtypes: int64(6)\n",
      "memory usage: 3.3 MB\n"
     ]
    }
   ],
   "source": [
    "df_hist.info()"
   ]
  },
  {
   "cell_type": "code",
   "execution_count": 5,
   "id": "cab8e1c9",
   "metadata": {},
   "outputs": [
    {
     "data": {
      "text/html": [
       "<div>\n",
       "<style scoped>\n",
       "    .dataframe tbody tr th:only-of-type {\n",
       "        vertical-align: middle;\n",
       "    }\n",
       "\n",
       "    .dataframe tbody tr th {\n",
       "        vertical-align: top;\n",
       "    }\n",
       "\n",
       "    .dataframe thead th {\n",
       "        text-align: right;\n",
       "    }\n",
       "</style>\n",
       "<table border=\"1\" class=\"dataframe\">\n",
       "  <thead>\n",
       "    <tr style=\"text-align: right;\">\n",
       "      <th></th>\n",
       "      <th>count</th>\n",
       "      <th>mean</th>\n",
       "      <th>std</th>\n",
       "      <th>min</th>\n",
       "      <th>25%</th>\n",
       "      <th>50%</th>\n",
       "      <th>75%</th>\n",
       "      <th>max</th>\n",
       "    </tr>\n",
       "  </thead>\n",
       "  <tbody>\n",
       "    <tr>\n",
       "      <th>ID</th>\n",
       "      <td>72161.0</td>\n",
       "      <td>36080.000000</td>\n",
       "      <td>20831.230725</td>\n",
       "      <td>0.0</td>\n",
       "      <td>18040.0</td>\n",
       "      <td>36080.0</td>\n",
       "      <td>54120.0</td>\n",
       "      <td>72160.0</td>\n",
       "    </tr>\n",
       "    <tr>\n",
       "      <th>Флаг дозвона</th>\n",
       "      <td>72161.0</td>\n",
       "      <td>0.599881</td>\n",
       "      <td>0.489926</td>\n",
       "      <td>0.0</td>\n",
       "      <td>0.0</td>\n",
       "      <td>1.0</td>\n",
       "      <td>1.0</td>\n",
       "      <td>1.0</td>\n",
       "    </tr>\n",
       "    <tr>\n",
       "      <th>Флаг продажи</th>\n",
       "      <td>72161.0</td>\n",
       "      <td>0.302172</td>\n",
       "      <td>0.459202</td>\n",
       "      <td>0.0</td>\n",
       "      <td>0.0</td>\n",
       "      <td>0.0</td>\n",
       "      <td>1.0</td>\n",
       "      <td>1.0</td>\n",
       "    </tr>\n",
       "    <tr>\n",
       "      <th>Расходы</th>\n",
       "      <td>72161.0</td>\n",
       "      <td>200.581547</td>\n",
       "      <td>363.748786</td>\n",
       "      <td>0.0</td>\n",
       "      <td>21.0</td>\n",
       "      <td>59.0</td>\n",
       "      <td>182.0</td>\n",
       "      <td>6280.0</td>\n",
       "    </tr>\n",
       "    <tr>\n",
       "      <th>PV</th>\n",
       "      <td>72161.0</td>\n",
       "      <td>482.041352</td>\n",
       "      <td>814.227243</td>\n",
       "      <td>0.0</td>\n",
       "      <td>0.0</td>\n",
       "      <td>0.0</td>\n",
       "      <td>1258.0</td>\n",
       "      <td>41255.0</td>\n",
       "    </tr>\n",
       "    <tr>\n",
       "      <th>NPV</th>\n",
       "      <td>72161.0</td>\n",
       "      <td>281.459805</td>\n",
       "      <td>677.664908</td>\n",
       "      <td>-4406.0</td>\n",
       "      <td>-54.0</td>\n",
       "      <td>-18.0</td>\n",
       "      <td>535.0</td>\n",
       "      <td>41144.0</td>\n",
       "    </tr>\n",
       "  </tbody>\n",
       "</table>\n",
       "</div>"
      ],
      "text/plain": [
       "                count          mean           std     min      25%      50%  \\\n",
       "ID            72161.0  36080.000000  20831.230725     0.0  18040.0  36080.0   \n",
       "Флаг дозвона  72161.0      0.599881      0.489926     0.0      0.0      1.0   \n",
       "Флаг продажи  72161.0      0.302172      0.459202     0.0      0.0      0.0   \n",
       "Расходы       72161.0    200.581547    363.748786     0.0     21.0     59.0   \n",
       "PV            72161.0    482.041352    814.227243     0.0      0.0      0.0   \n",
       "NPV           72161.0    281.459805    677.664908 -4406.0    -54.0    -18.0   \n",
       "\n",
       "                  75%      max  \n",
       "ID            54120.0  72160.0  \n",
       "Флаг дозвона      1.0      1.0  \n",
       "Флаг продажи      1.0      1.0  \n",
       "Расходы         182.0   6280.0  \n",
       "PV             1258.0  41255.0  \n",
       "NPV             535.0  41144.0  "
      ]
     },
     "execution_count": 5,
     "metadata": {},
     "output_type": "execute_result"
    }
   ],
   "source": [
    "df_hist.describe().T"
   ]
  },
  {
   "cell_type": "markdown",
   "id": "d8653ede",
   "metadata": {},
   "source": [
    "Рассчитаем размер выборок двумя способами: с помощью tt_ind_solve_power и формулы для небинарного распределения и односторонней альтернативы."
   ]
  },
  {
   "cell_type": "code",
   "execution_count": 6,
   "id": "fYijOurfjLNp",
   "metadata": {
    "id": "fYijOurfjLNp"
   },
   "outputs": [
    {
     "name": "stdout",
     "output_type": "stream",
     "text": [
      "Размер каждой из групп для теста: 28673\n"
     ]
    }
   ],
   "source": [
    "alpha = 0.05    # уровень значимости\n",
    "power = 0.8    # мощность теста\n",
    "lift = 0.05   # относительный прирост \n",
    "mean_npv_hist = df_hist['NPV'].mean() # историческое среднее метрики \n",
    "mde = lift * mean_npv_hist           # mde\n",
    "std_npv_hist = df_hist['NPV'].std() # историческое стандартное отклонение метрики \n",
    "effect_size = mde / std_npv_hist   # размер эффекта \n",
    "\n",
    "# наблюдения на одну выборку округленное до целого числа \n",
    "\n",
    "n = round((tt_ind_solve_power(\n",
    "    effect_size=effect_size, alpha=alpha, power=power, nobs1=None, ratio=1, alternative='larger')\n",
    "))\n",
    "print(f'Размер каждой из групп для теста: {n}')"
   ]
  },
  {
   "cell_type": "code",
   "execution_count": 7,
   "id": "a9a81bbd",
   "metadata": {},
   "outputs": [
    {
     "data": {
      "text/plain": [
       "28672"
      ]
     },
     "execution_count": 7,
     "metadata": {},
     "output_type": "execute_result"
    }
   ],
   "source": [
    "# сравним результат функции с формулой для небинарного распределения и односторонней альтернативы\n",
    "z_alpha = st.norm.ppf(1 - alpha)\n",
    "z_beta = st.norm.ppf(1 - power) \n",
    "\n",
    "n1 = 2 * std_npv_hist**2 * (z_alpha - z_beta)**2 / mde**2\n",
    "\n",
    "round(n1)"
   ]
  },
  {
   "cell_type": "markdown",
   "id": "3eadf962",
   "metadata": {},
   "source": [
    "Результаты сходятся, для дальнейшей проверки буду использовать выборку n = 28673"
   ]
  },
  {
   "cell_type": "markdown",
   "id": "8df8ee73",
   "metadata": {
    "id": "8df8ee73"
   },
   "source": [
    "### 3.2. Запрос у бота в Телеграме выборку командой `/get_project1_sample {размер выборки}` и вписать код выборки"
   ]
  },
  {
   "cell_type": "code",
   "execution_count": 8,
   "id": "9vCrM3wcjM0H",
   "metadata": {
    "id": "9vCrM3wcjM0H"
   },
   "outputs": [],
   "source": [
    "cod_v = 4726 # код выборки\n",
    "\n",
    "# Файлы для теста\n",
    "\n",
    "df_a = pd.read_csv('Контроль.csv')\n",
    "df_b = pd.read_csv('Тест.csv')"
   ]
  },
  {
   "cell_type": "code",
   "execution_count": 9,
   "id": "5a238438",
   "metadata": {},
   "outputs": [
    {
     "name": "stdout",
     "output_type": "stream",
     "text": [
      "<class 'pandas.core.frame.DataFrame'>\n",
      "RangeIndex: 28673 entries, 0 to 28672\n",
      "Data columns (total 6 columns):\n",
      " #   Column        Non-Null Count  Dtype\n",
      "---  ------        --------------  -----\n",
      " 0   ID            28673 non-null  int64\n",
      " 1   Флаг дозвона  28673 non-null  int64\n",
      " 2   Флаг продажи  28673 non-null  int64\n",
      " 3   Расходы       28673 non-null  int64\n",
      " 4   PV            28673 non-null  int64\n",
      " 5   NPV           28673 non-null  int64\n",
      "dtypes: int64(6)\n",
      "memory usage: 1.3 MB\n"
     ]
    }
   ],
   "source": [
    "df_a.info()"
   ]
  },
  {
   "cell_type": "code",
   "execution_count": 10,
   "id": "21cc704f",
   "metadata": {},
   "outputs": [
    {
     "data": {
      "text/html": [
       "<div>\n",
       "<style scoped>\n",
       "    .dataframe tbody tr th:only-of-type {\n",
       "        vertical-align: middle;\n",
       "    }\n",
       "\n",
       "    .dataframe tbody tr th {\n",
       "        vertical-align: top;\n",
       "    }\n",
       "\n",
       "    .dataframe thead th {\n",
       "        text-align: right;\n",
       "    }\n",
       "</style>\n",
       "<table border=\"1\" class=\"dataframe\">\n",
       "  <thead>\n",
       "    <tr style=\"text-align: right;\">\n",
       "      <th></th>\n",
       "      <th>count</th>\n",
       "      <th>mean</th>\n",
       "      <th>std</th>\n",
       "      <th>min</th>\n",
       "      <th>25%</th>\n",
       "      <th>50%</th>\n",
       "      <th>75%</th>\n",
       "      <th>max</th>\n",
       "    </tr>\n",
       "  </thead>\n",
       "  <tbody>\n",
       "    <tr>\n",
       "      <th>ID</th>\n",
       "      <td>28673.0</td>\n",
       "      <td>14336.000000</td>\n",
       "      <td>8277.326471</td>\n",
       "      <td>0.0</td>\n",
       "      <td>7168.0</td>\n",
       "      <td>14336.0</td>\n",
       "      <td>21504.0</td>\n",
       "      <td>28672.0</td>\n",
       "    </tr>\n",
       "    <tr>\n",
       "      <th>Флаг дозвона</th>\n",
       "      <td>28673.0</td>\n",
       "      <td>0.602867</td>\n",
       "      <td>0.489313</td>\n",
       "      <td>0.0</td>\n",
       "      <td>0.0</td>\n",
       "      <td>1.0</td>\n",
       "      <td>1.0</td>\n",
       "      <td>1.0</td>\n",
       "    </tr>\n",
       "    <tr>\n",
       "      <th>Флаг продажи</th>\n",
       "      <td>28673.0</td>\n",
       "      <td>0.303910</td>\n",
       "      <td>0.459952</td>\n",
       "      <td>0.0</td>\n",
       "      <td>0.0</td>\n",
       "      <td>0.0</td>\n",
       "      <td>1.0</td>\n",
       "      <td>1.0</td>\n",
       "    </tr>\n",
       "    <tr>\n",
       "      <th>Расходы</th>\n",
       "      <td>28673.0</td>\n",
       "      <td>200.841384</td>\n",
       "      <td>360.286854</td>\n",
       "      <td>0.0</td>\n",
       "      <td>21.0</td>\n",
       "      <td>59.0</td>\n",
       "      <td>185.0</td>\n",
       "      <td>4224.0</td>\n",
       "    </tr>\n",
       "    <tr>\n",
       "      <th>PV</th>\n",
       "      <td>28673.0</td>\n",
       "      <td>486.192829</td>\n",
       "      <td>794.450900</td>\n",
       "      <td>0.0</td>\n",
       "      <td>0.0</td>\n",
       "      <td>0.0</td>\n",
       "      <td>1257.0</td>\n",
       "      <td>9649.0</td>\n",
       "    </tr>\n",
       "    <tr>\n",
       "      <th>NPV</th>\n",
       "      <td>28673.0</td>\n",
       "      <td>285.351446</td>\n",
       "      <td>649.234384</td>\n",
       "      <td>-2886.0</td>\n",
       "      <td>-54.0</td>\n",
       "      <td>-17.0</td>\n",
       "      <td>548.0</td>\n",
       "      <td>8052.0</td>\n",
       "    </tr>\n",
       "  </tbody>\n",
       "</table>\n",
       "</div>"
      ],
      "text/plain": [
       "                count          mean          std     min     25%      50%  \\\n",
       "ID            28673.0  14336.000000  8277.326471     0.0  7168.0  14336.0   \n",
       "Флаг дозвона  28673.0      0.602867     0.489313     0.0     0.0      1.0   \n",
       "Флаг продажи  28673.0      0.303910     0.459952     0.0     0.0      0.0   \n",
       "Расходы       28673.0    200.841384   360.286854     0.0    21.0     59.0   \n",
       "PV            28673.0    486.192829   794.450900     0.0     0.0      0.0   \n",
       "NPV           28673.0    285.351446   649.234384 -2886.0   -54.0    -17.0   \n",
       "\n",
       "                  75%      max  \n",
       "ID            21504.0  28672.0  \n",
       "Флаг дозвона      1.0      1.0  \n",
       "Флаг продажи      1.0      1.0  \n",
       "Расходы         185.0   4224.0  \n",
       "PV             1257.0   9649.0  \n",
       "NPV             548.0   8052.0  "
      ]
     },
     "execution_count": 10,
     "metadata": {},
     "output_type": "execute_result"
    }
   ],
   "source": [
    "df_a.describe().T"
   ]
  },
  {
   "cell_type": "code",
   "execution_count": 11,
   "id": "9bd758ee",
   "metadata": {},
   "outputs": [
    {
     "name": "stdout",
     "output_type": "stream",
     "text": [
      "<class 'pandas.core.frame.DataFrame'>\n",
      "RangeIndex: 28673 entries, 0 to 28672\n",
      "Data columns (total 6 columns):\n",
      " #   Column        Non-Null Count  Dtype\n",
      "---  ------        --------------  -----\n",
      " 0   ID            28673 non-null  int64\n",
      " 1   Флаг дозвона  28673 non-null  int64\n",
      " 2   Флаг продажи  28673 non-null  int64\n",
      " 3   Расходы       28673 non-null  int64\n",
      " 4   PV            28673 non-null  int64\n",
      " 5   NPV           28673 non-null  int64\n",
      "dtypes: int64(6)\n",
      "memory usage: 1.3 MB\n"
     ]
    }
   ],
   "source": [
    "df_b.info()"
   ]
  },
  {
   "cell_type": "code",
   "execution_count": 12,
   "id": "dd9a5aad",
   "metadata": {},
   "outputs": [
    {
     "data": {
      "text/html": [
       "<div>\n",
       "<style scoped>\n",
       "    .dataframe tbody tr th:only-of-type {\n",
       "        vertical-align: middle;\n",
       "    }\n",
       "\n",
       "    .dataframe tbody tr th {\n",
       "        vertical-align: top;\n",
       "    }\n",
       "\n",
       "    .dataframe thead th {\n",
       "        text-align: right;\n",
       "    }\n",
       "</style>\n",
       "<table border=\"1\" class=\"dataframe\">\n",
       "  <thead>\n",
       "    <tr style=\"text-align: right;\">\n",
       "      <th></th>\n",
       "      <th>count</th>\n",
       "      <th>mean</th>\n",
       "      <th>std</th>\n",
       "      <th>min</th>\n",
       "      <th>25%</th>\n",
       "      <th>50%</th>\n",
       "      <th>75%</th>\n",
       "      <th>max</th>\n",
       "    </tr>\n",
       "  </thead>\n",
       "  <tbody>\n",
       "    <tr>\n",
       "      <th>ID</th>\n",
       "      <td>28673.0</td>\n",
       "      <td>14336.000000</td>\n",
       "      <td>8277.326471</td>\n",
       "      <td>0.0</td>\n",
       "      <td>7168.0</td>\n",
       "      <td>14336.0</td>\n",
       "      <td>21504.0</td>\n",
       "      <td>28672.0</td>\n",
       "    </tr>\n",
       "    <tr>\n",
       "      <th>Флаг дозвона</th>\n",
       "      <td>28673.0</td>\n",
       "      <td>0.597635</td>\n",
       "      <td>0.490383</td>\n",
       "      <td>0.0</td>\n",
       "      <td>0.0</td>\n",
       "      <td>1.0</td>\n",
       "      <td>1.0</td>\n",
       "      <td>1.0</td>\n",
       "    </tr>\n",
       "    <tr>\n",
       "      <th>Флаг продажи</th>\n",
       "      <td>28673.0</td>\n",
       "      <td>0.297388</td>\n",
       "      <td>0.457117</td>\n",
       "      <td>0.0</td>\n",
       "      <td>0.0</td>\n",
       "      <td>0.0</td>\n",
       "      <td>1.0</td>\n",
       "      <td>1.0</td>\n",
       "    </tr>\n",
       "    <tr>\n",
       "      <th>Расходы</th>\n",
       "      <td>28673.0</td>\n",
       "      <td>197.799742</td>\n",
       "      <td>361.309959</td>\n",
       "      <td>0.0</td>\n",
       "      <td>21.0</td>\n",
       "      <td>58.0</td>\n",
       "      <td>176.0</td>\n",
       "      <td>4510.0</td>\n",
       "    </tr>\n",
       "    <tr>\n",
       "      <th>PV</th>\n",
       "      <td>28673.0</td>\n",
       "      <td>475.735710</td>\n",
       "      <td>795.316713</td>\n",
       "      <td>0.0</td>\n",
       "      <td>0.0</td>\n",
       "      <td>0.0</td>\n",
       "      <td>1251.0</td>\n",
       "      <td>13884.0</td>\n",
       "    </tr>\n",
       "    <tr>\n",
       "      <th>NPV</th>\n",
       "      <td>28673.0</td>\n",
       "      <td>277.935968</td>\n",
       "      <td>654.273899</td>\n",
       "      <td>-3010.0</td>\n",
       "      <td>-54.0</td>\n",
       "      <td>-18.0</td>\n",
       "      <td>501.0</td>\n",
       "      <td>13235.0</td>\n",
       "    </tr>\n",
       "  </tbody>\n",
       "</table>\n",
       "</div>"
      ],
      "text/plain": [
       "                count          mean          std     min     25%      50%  \\\n",
       "ID            28673.0  14336.000000  8277.326471     0.0  7168.0  14336.0   \n",
       "Флаг дозвона  28673.0      0.597635     0.490383     0.0     0.0      1.0   \n",
       "Флаг продажи  28673.0      0.297388     0.457117     0.0     0.0      0.0   \n",
       "Расходы       28673.0    197.799742   361.309959     0.0    21.0     58.0   \n",
       "PV            28673.0    475.735710   795.316713     0.0     0.0      0.0   \n",
       "NPV           28673.0    277.935968   654.273899 -3010.0   -54.0    -18.0   \n",
       "\n",
       "                  75%      max  \n",
       "ID            21504.0  28672.0  \n",
       "Флаг дозвона      1.0      1.0  \n",
       "Флаг продажи      1.0      1.0  \n",
       "Расходы         176.0   4510.0  \n",
       "PV             1251.0  13884.0  \n",
       "NPV             501.0  13235.0  "
      ]
     },
     "execution_count": 12,
     "metadata": {},
     "output_type": "execute_result"
    }
   ],
   "source": [
    "df_b.describe().T"
   ]
  },
  {
   "cell_type": "markdown",
   "id": "22e2d9b0",
   "metadata": {
    "id": "22e2d9b0"
   },
   "source": [
    "### 4. Принятие решения"
   ]
  },
  {
   "cell_type": "code",
   "execution_count": 13,
   "id": "C9NO-_o3jON1",
   "metadata": {
    "id": "C9NO-_o3jON1",
    "scrolled": true
   },
   "outputs": [
    {
     "data": {
      "image/png": "[encoded data removed]",
      "text/plain": [
       "<Figure size 640x480 with 1 Axes>"
      ]
     },
     "metadata": {},
     "output_type": "display_data"
    },
    {
     "data": {
      "image/png": "[encoded data removed]",
      "text/plain": [
       "<Figure size 640x480 with 1 Axes>"
      ]
     },
     "metadata": {},
     "output_type": "display_data"
    }
   ],
   "source": [
    "# Для ttest проверим, что выборочные средние распределены нормально\n",
    "\n",
    "a = pd.Series([df_a['NPV'].sample(1000,replace=True).mean() for _ in range(1000)])\n",
    "b = pd.Series([df_b['NPV'].sample(1000,replace=True).mean() for _ in range(1000)])\n",
    "\n",
    "st.probplot(a, dist=\"norm\", plot=pylab)\n",
    "pylab.show()\n",
    "\n",
    "st.probplot(b, dist=\"norm\", plot=pylab)\n",
    "pylab.show()"
   ]
  },
  {
   "cell_type": "code",
   "execution_count": 14,
   "id": "035169a3",
   "metadata": {},
   "outputs": [
    {
     "data": {
      "text/plain": [
       "0.9134461644312128"
      ]
     },
     "execution_count": 14,
     "metadata": {},
     "output_type": "execute_result"
    }
   ],
   "source": [
    "# ttest с односторонней проверкой alternative = 'less'\n",
    "\n",
    "_, pval = ttest_ind(a = df_a['NPV'], b = df_b['NPV'], equal_var=False, alternative = 'less')\n",
    "pval"
   ]
  },
  {
   "cell_type": "code",
   "execution_count": 15,
   "id": "3363dffb",
   "metadata": {},
   "outputs": [
    {
     "name": "stdout",
     "output_type": "stream",
     "text": [
      "Среднее NPV группы А: 285.35144561085343, количество продаж группы А: 8714;\n",
      "Среднее NPV группы B: 277.93596763505735, количество продаж группы B: 8527 \n"
     ]
    }
   ],
   "source": [
    "print(f'''Среднее NPV группы А: {df_a['NPV'].mean()}, количество продаж группы А: {df_a['Флаг продажи'].sum()};\n",
    "Среднее NPV группы B: {df_b['NPV'].mean()}, количество продаж группы B: {df_b['Флаг продажи'].sum()} ''')"
   ]
  },
  {
   "cell_type": "markdown",
   "id": "fe2da939",
   "metadata": {},
   "source": [
    "<div style=\"border:solid green 2px; padding: 20px\"> \n",
    "<b>Вывод по заданию 1:</b> \n",
    "    \n",
    "p-value больше 0.05, следовательно отклонить гипотезу H0 мы не можем; количество продаж и NPV в контольной группе больше больше чем в тестовой. В тестовой и контрольной группе примерно одинаковое количество недозвонов. Можно сделать вывод, что уменьшение цены продукта не приносит больше больше прибыли и успешных сделок. \n",
    "</div>"
   ]
  },
  {
   "cell_type": "markdown",
   "id": "f9e15111",
   "metadata": {
    "id": "f9e15111"
   },
   "source": [
    "------------------"
   ]
  },
  {
   "cell_type": "markdown",
   "id": "7ea196b1",
   "metadata": {
    "id": "7ea196b1"
   },
   "source": [
    "##  <ins>Задание 2.</ins>"
   ]
  },
  {
   "cell_type": "markdown",
   "id": "5fb68c7b",
   "metadata": {},
   "source": [
    "**Общее описание**\n",
    "\n",
    "В этом задании необходимо провести A/B тест на процессе оформления кредитных карт. Алгоритм решения задачи следующий.\n",
    "\n",
    "- Напишите боту @TFDataAnalysisBot команду /get_project2_desc. Так вы получите условие и файл с историческими данными.\n",
    "- Определите целевую метрику и альтернативу.\n",
    "- Определите параметр, влияющий на целевую метрику.\n",
    "- Исходя из исторических данных, определите минимальный размер n одной выборки.\n",
    "- Напишите боту команду /get_project2_sample n, где n - минимальный размер выборки.\n",
    "- Проверьте однородность выборок. (Если выборки неоднородны, то тест провален. Если выборки однородны, примените критерий для целевой метрики.)\n",
    "- Выводы по тесту.\n",
    "\n",
    "**Описание данных**\n",
    "\n",
    "Процесс оформления кредитной карты (КК) устроен следующим образом:\n",
    "\n",
    "- человек заходит на сайт и заполняет информацию о себе (в том числе возраст и доход клиента) для получения кредитной карты;\n",
    "- человек проходит скоринг (в том числе в рамках которого оценивается вероятность банкротства клиента);\n",
    "- создаётся заявка на оформление кредитной карты;\n",
    "- человеку выпускается виртуальная карта, а также предлагается наша услуга к этому счёту;\n",
    "- с некоторой вероятностью человек утилизирует счёт (начинает им пользоваться);\n",
    "- если человек не утилизирует счёт, мы несём некоторые затраты на время оператора и поддержку инфраструктуры;\n",
    "- если человек утилизировал карту, мы имеем некоторый заработок (PV) и повышенные расходы.\n",
    "\n",
    "**Описание колонок в исторических данных.**\n",
    "\n",
    "- ID - номер заявки, прошедшей скоринг\n",
    "- Возраст - возраст клиента, указанный при оформлении КК\n",
    "- Доход клиента - доход клиента, указанный при оформлении КК\n",
    "- Вероятность банкротства - оценка вероятности банкротства клиента, полученная с помощью скоринга по параметрам клиента\n",
    "- Флаг утилизация счёта - совершение первой расходной операции на счёте КК\n",
    "- Расходы - сумма затрат на заявку\n",
    "- PV КК - 0 если счёт не утилизирован, иначе = PV кредитной карты\n",
    "- PV услуги - 0 если счёт не утилизирован, иначе = PV этой услуги\n",
    "- NPV = PV КК + PV услуги - Расходы"
   ]
  },
  {
   "cell_type": "markdown",
   "id": "M0mI4jfTkCk6",
   "metadata": {
    "id": "M0mI4jfTkCk6"
   },
   "source": [
    "### 0. Запрос у бота в Телеграме условие командой `/get_project2_desc`"
   ]
  },
  {
   "cell_type": "markdown",
   "id": "45b1824f",
   "metadata": {},
   "source": [
    "**Контекст**\n",
    "\n",
    "Мы провели Cust Dev и поняли,\n",
    "что форма авторизации для клиента сложна,\n",
    "и из-за этого часть клиентов\n",
    "отваливается в заявочном процессе.\n",
    "Мы решили разработать\n",
    "новый процесс авторизации,\n",
    "и у нас есть гипотеза,\n",
    "что он позволит повысить\n",
    "утилизации наших счетов.\n",
    "        \n",
    "**Тест**\n",
    "\n",
    "Мы проводим тест,\n",
    "в рамках которого мы разбиваем весь поток\n",
    "на две части рановероятно,\n",
    "где у одной части (контроля) \n",
    "старый процесс авторизации,\n",
    "а у второй части (теста) - новый.\n",
    "Целью этого теста\n",
    "является повышение утилизаций счёта.\n",
    "\n",
    "Статистические вводные\n",
    "\n",
    "- Проверка однородности выбранного параметра\n",
    "осуществяется с уровнем значимости 2%.\n",
    "\n",
    "- Уровень значимости 5%.\n",
    "- Мы хотели бы различать 3%-ное\n",
    "изменение целевой метрики\n",
    "с вероятностью 95%."
   ]
  },
  {
   "cell_type": "markdown",
   "id": "e4691844",
   "metadata": {
    "id": "e4691844"
   },
   "source": [
    "### 1. Выбор метрик"
   ]
  },
  {
   "cell_type": "markdown",
   "id": "c213f64a",
   "metadata": {
    "id": "Q3Zae2tSjQFW"
   },
   "source": [
    "В качестве целевой метрики возьмем 'Флаг утилизация счёта', так как цель теста - увеличение количества утилизированных карт."
   ]
  },
  {
   "cell_type": "markdown",
   "id": "e36b594c",
   "metadata": {
    "id": "e36b594c"
   },
   "source": [
    "### 2. Альтернатива в критерии"
   ]
  },
  {
   "cell_type": "markdown",
   "id": "cd415812",
   "metadata": {
    "id": "pBmniztEjRQP"
   },
   "source": [
    "H0: Частота утилизации счета группы А равна частоте утилизации счета группы В. \n",
    "\n",
    "H1: Частота утилизации счета группы А меньше частоты утилизации счета группы В. \n",
    "\n",
    "$H_0 : p_{A} = p_{B}$ \n",
    "\n",
    "$H_1 : p_{A} < p_{B}$"
   ]
  },
  {
   "cell_type": "markdown",
   "id": "692b97f3",
   "metadata": {
    "id": "692b97f3"
   },
   "source": [
    "### 3. Выбор параметра, влияющего на целевую метрику"
   ]
  },
  {
   "cell_type": "code",
   "execution_count": 16,
   "id": "tk7WBLvmjSnM",
   "metadata": {
    "id": "tk7WBLvmjSnM"
   },
   "outputs": [
    {
     "data": {
      "text/html": [
       "<div>\n",
       "<style scoped>\n",
       "    .dataframe tbody tr th:only-of-type {\n",
       "        vertical-align: middle;\n",
       "    }\n",
       "\n",
       "    .dataframe tbody tr th {\n",
       "        vertical-align: top;\n",
       "    }\n",
       "\n",
       "    .dataframe thead th {\n",
       "        text-align: right;\n",
       "    }\n",
       "</style>\n",
       "<table border=\"1\" class=\"dataframe\">\n",
       "  <thead>\n",
       "    <tr style=\"text-align: right;\">\n",
       "      <th></th>\n",
       "      <th>ID</th>\n",
       "      <th>Возраст</th>\n",
       "      <th>Доход клиента</th>\n",
       "      <th>Вероятность банкротства</th>\n",
       "      <th>Флаг утилизации счёта</th>\n",
       "      <th>Расходы</th>\n",
       "      <th>PV КК</th>\n",
       "      <th>PV услуги</th>\n",
       "      <th>NPV</th>\n",
       "    </tr>\n",
       "  </thead>\n",
       "  <tbody>\n",
       "    <tr>\n",
       "      <th>0</th>\n",
       "      <td>0</td>\n",
       "      <td>19</td>\n",
       "      <td>21620.835463</td>\n",
       "      <td>0.138061</td>\n",
       "      <td>0</td>\n",
       "      <td>102</td>\n",
       "      <td>0</td>\n",
       "      <td>0</td>\n",
       "      <td>-102</td>\n",
       "    </tr>\n",
       "    <tr>\n",
       "      <th>1</th>\n",
       "      <td>1</td>\n",
       "      <td>27</td>\n",
       "      <td>24897.990863</td>\n",
       "      <td>0.035508</td>\n",
       "      <td>1</td>\n",
       "      <td>409</td>\n",
       "      <td>11686</td>\n",
       "      <td>1754</td>\n",
       "      <td>13031</td>\n",
       "    </tr>\n",
       "    <tr>\n",
       "      <th>2</th>\n",
       "      <td>2</td>\n",
       "      <td>50</td>\n",
       "      <td>23989.526947</td>\n",
       "      <td>0.098793</td>\n",
       "      <td>0</td>\n",
       "      <td>16</td>\n",
       "      <td>0</td>\n",
       "      <td>0</td>\n",
       "      <td>-16</td>\n",
       "    </tr>\n",
       "    <tr>\n",
       "      <th>3</th>\n",
       "      <td>3</td>\n",
       "      <td>18</td>\n",
       "      <td>38442.409756</td>\n",
       "      <td>0.365661</td>\n",
       "      <td>1</td>\n",
       "      <td>788</td>\n",
       "      <td>13738</td>\n",
       "      <td>1578</td>\n",
       "      <td>14528</td>\n",
       "    </tr>\n",
       "    <tr>\n",
       "      <th>4</th>\n",
       "      <td>4</td>\n",
       "      <td>24</td>\n",
       "      <td>21291.521612</td>\n",
       "      <td>0.036909</td>\n",
       "      <td>1</td>\n",
       "      <td>1048</td>\n",
       "      <td>6594</td>\n",
       "      <td>2213</td>\n",
       "      <td>7759</td>\n",
       "    </tr>\n",
       "  </tbody>\n",
       "</table>\n",
       "</div>"
      ],
      "text/plain": [
       "   ID  Возраст  Доход клиента  Вероятность банкротства  Флаг утилизации счёта  \\\n",
       "0   0       19   21620.835463                 0.138061                      0   \n",
       "1   1       27   24897.990863                 0.035508                      1   \n",
       "2   2       50   23989.526947                 0.098793                      0   \n",
       "3   3       18   38442.409756                 0.365661                      1   \n",
       "4   4       24   21291.521612                 0.036909                      1   \n",
       "\n",
       "   Расходы  PV КК  PV услуги    NPV  \n",
       "0      102      0          0   -102  \n",
       "1      409  11686       1754  13031  \n",
       "2       16      0          0    -16  \n",
       "3      788  13738       1578  14528  \n",
       "4     1048   6594       2213   7759  "
      ]
     },
     "execution_count": 16,
     "metadata": {},
     "output_type": "execute_result"
    }
   ],
   "source": [
    "# историчесокие данные \n",
    "\n",
    "df_hist_card = pd.read_csv('hist_credit_card.csv')\n",
    "df_hist_card.head()"
   ]
  },
  {
   "cell_type": "code",
   "execution_count": 17,
   "id": "6ca754f0",
   "metadata": {},
   "outputs": [
    {
     "name": "stdout",
     "output_type": "stream",
     "text": [
      "<class 'pandas.core.frame.DataFrame'>\n",
      "RangeIndex: 123255 entries, 0 to 123254\n",
      "Data columns (total 9 columns):\n",
      " #   Column                   Non-Null Count   Dtype  \n",
      "---  ------                   --------------   -----  \n",
      " 0   ID                       123255 non-null  int64  \n",
      " 1   Возраст                  123255 non-null  int64  \n",
      " 2   Доход клиента            123255 non-null  float64\n",
      " 3   Вероятность банкротства  123255 non-null  float64\n",
      " 4   Флаг утилизации счёта    123255 non-null  int64  \n",
      " 5   Расходы                  123255 non-null  int64  \n",
      " 6   PV КК                    123255 non-null  int64  \n",
      " 7   PV услуги                123255 non-null  int64  \n",
      " 8   NPV                      123255 non-null  int64  \n",
      "dtypes: float64(2), int64(7)\n",
      "memory usage: 8.5 MB\n"
     ]
    }
   ],
   "source": [
    "df_hist_card.info()"
   ]
  },
  {
   "cell_type": "code",
   "execution_count": 18,
   "id": "1c1c4c6a",
   "metadata": {},
   "outputs": [
    {
     "data": {
      "text/html": [
       "<div>\n",
       "<style scoped>\n",
       "    .dataframe tbody tr th:only-of-type {\n",
       "        vertical-align: middle;\n",
       "    }\n",
       "\n",
       "    .dataframe tbody tr th {\n",
       "        vertical-align: top;\n",
       "    }\n",
       "\n",
       "    .dataframe thead th {\n",
       "        text-align: right;\n",
       "    }\n",
       "</style>\n",
       "<table border=\"1\" class=\"dataframe\">\n",
       "  <thead>\n",
       "    <tr style=\"text-align: right;\">\n",
       "      <th></th>\n",
       "      <th>count</th>\n",
       "      <th>mean</th>\n",
       "      <th>std</th>\n",
       "      <th>min</th>\n",
       "      <th>25%</th>\n",
       "      <th>50%</th>\n",
       "      <th>75%</th>\n",
       "      <th>max</th>\n",
       "    </tr>\n",
       "  </thead>\n",
       "  <tbody>\n",
       "    <tr>\n",
       "      <th>ID</th>\n",
       "      <td>123255.0</td>\n",
       "      <td>61627.000000</td>\n",
       "      <td>35580.798052</td>\n",
       "      <td>0.000000e+00</td>\n",
       "      <td>30813.500000</td>\n",
       "      <td>61627.000000</td>\n",
       "      <td>92440.500000</td>\n",
       "      <td>1.232540e+05</td>\n",
       "    </tr>\n",
       "    <tr>\n",
       "      <th>Возраст</th>\n",
       "      <td>123255.0</td>\n",
       "      <td>39.673522</td>\n",
       "      <td>16.449416</td>\n",
       "      <td>1.800000e+01</td>\n",
       "      <td>25.000000</td>\n",
       "      <td>36.000000</td>\n",
       "      <td>52.000000</td>\n",
       "      <td>7.500000e+01</td>\n",
       "    </tr>\n",
       "    <tr>\n",
       "      <th>Доход клиента</th>\n",
       "      <td>123255.0</td>\n",
       "      <td>30093.852754</td>\n",
       "      <td>17487.759048</td>\n",
       "      <td>2.000019e+04</td>\n",
       "      <td>22017.727203</td>\n",
       "      <td>25234.737307</td>\n",
       "      <td>31838.232301</td>\n",
       "      <td>1.187963e+06</td>\n",
       "    </tr>\n",
       "    <tr>\n",
       "      <th>Вероятность банкротства</th>\n",
       "      <td>123255.0</td>\n",
       "      <td>0.125425</td>\n",
       "      <td>0.110504</td>\n",
       "      <td>5.004337e-08</td>\n",
       "      <td>0.040535</td>\n",
       "      <td>0.094759</td>\n",
       "      <td>0.180180</td>\n",
       "      <td>8.601029e-01</td>\n",
       "    </tr>\n",
       "    <tr>\n",
       "      <th>Флаг утилизации счёта</th>\n",
       "      <td>123255.0</td>\n",
       "      <td>0.741544</td>\n",
       "      <td>0.437788</td>\n",
       "      <td>0.000000e+00</td>\n",
       "      <td>0.000000</td>\n",
       "      <td>1.000000</td>\n",
       "      <td>1.000000</td>\n",
       "      <td>1.000000e+00</td>\n",
       "    </tr>\n",
       "    <tr>\n",
       "      <th>Расходы</th>\n",
       "      <td>123255.0</td>\n",
       "      <td>421.941942</td>\n",
       "      <td>486.166550</td>\n",
       "      <td>0.000000e+00</td>\n",
       "      <td>74.000000</td>\n",
       "      <td>252.000000</td>\n",
       "      <td>600.000000</td>\n",
       "      <td>5.178000e+03</td>\n",
       "    </tr>\n",
       "    <tr>\n",
       "      <th>PV КК</th>\n",
       "      <td>123255.0</td>\n",
       "      <td>7496.048574</td>\n",
       "      <td>21589.615841</td>\n",
       "      <td>0.000000e+00</td>\n",
       "      <td>0.000000</td>\n",
       "      <td>6316.000000</td>\n",
       "      <td>8807.000000</td>\n",
       "      <td>5.073883e+06</td>\n",
       "    </tr>\n",
       "    <tr>\n",
       "      <th>PV услуги</th>\n",
       "      <td>123255.0</td>\n",
       "      <td>1486.105253</td>\n",
       "      <td>1357.035726</td>\n",
       "      <td>0.000000e+00</td>\n",
       "      <td>0.000000</td>\n",
       "      <td>1518.000000</td>\n",
       "      <td>1916.000000</td>\n",
       "      <td>7.505800e+04</td>\n",
       "    </tr>\n",
       "    <tr>\n",
       "      <th>NPV</th>\n",
       "      <td>123255.0</td>\n",
       "      <td>8560.211886</td>\n",
       "      <td>21758.627389</td>\n",
       "      <td>-5.100000e+02</td>\n",
       "      <td>-1.000000</td>\n",
       "      <td>7755.000000</td>\n",
       "      <td>10448.000000</td>\n",
       "      <td>5.075041e+06</td>\n",
       "    </tr>\n",
       "  </tbody>\n",
       "</table>\n",
       "</div>"
      ],
      "text/plain": [
       "                            count          mean           std           min  \\\n",
       "ID                       123255.0  61627.000000  35580.798052  0.000000e+00   \n",
       "Возраст                  123255.0     39.673522     16.449416  1.800000e+01   \n",
       "Доход клиента            123255.0  30093.852754  17487.759048  2.000019e+04   \n",
       "Вероятность банкротства  123255.0      0.125425      0.110504  5.004337e-08   \n",
       "Флаг утилизации счёта    123255.0      0.741544      0.437788  0.000000e+00   \n",
       "Расходы                  123255.0    421.941942    486.166550  0.000000e+00   \n",
       "PV КК                    123255.0   7496.048574  21589.615841  0.000000e+00   \n",
       "PV услуги                123255.0   1486.105253   1357.035726  0.000000e+00   \n",
       "NPV                      123255.0   8560.211886  21758.627389 -5.100000e+02   \n",
       "\n",
       "                                  25%           50%           75%  \\\n",
       "ID                       30813.500000  61627.000000  92440.500000   \n",
       "Возраст                     25.000000     36.000000     52.000000   \n",
       "Доход клиента            22017.727203  25234.737307  31838.232301   \n",
       "Вероятность банкротства      0.040535      0.094759      0.180180   \n",
       "Флаг утилизации счёта        0.000000      1.000000      1.000000   \n",
       "Расходы                     74.000000    252.000000    600.000000   \n",
       "PV КК                        0.000000   6316.000000   8807.000000   \n",
       "PV услуги                    0.000000   1518.000000   1916.000000   \n",
       "NPV                         -1.000000   7755.000000  10448.000000   \n",
       "\n",
       "                                  max  \n",
       "ID                       1.232540e+05  \n",
       "Возраст                  7.500000e+01  \n",
       "Доход клиента            1.187963e+06  \n",
       "Вероятность банкротства  8.601029e-01  \n",
       "Флаг утилизации счёта    1.000000e+00  \n",
       "Расходы                  5.178000e+03  \n",
       "PV КК                    5.073883e+06  \n",
       "PV услуги                7.505800e+04  \n",
       "NPV                      5.075041e+06  "
      ]
     },
     "execution_count": 18,
     "metadata": {},
     "output_type": "execute_result"
    }
   ],
   "source": [
    "df_hist_card.describe().T"
   ]
  },
  {
   "cell_type": "code",
   "execution_count": 19,
   "id": "4bYv6W9ljUEg",
   "metadata": {
    "id": "4bYv6W9ljUEg"
   },
   "outputs": [
    {
     "data": {
      "text/html": [
       "<div>\n",
       "<style scoped>\n",
       "    .dataframe tbody tr th:only-of-type {\n",
       "        vertical-align: middle;\n",
       "    }\n",
       "\n",
       "    .dataframe tbody tr th {\n",
       "        vertical-align: top;\n",
       "    }\n",
       "\n",
       "    .dataframe thead th {\n",
       "        text-align: right;\n",
       "    }\n",
       "</style>\n",
       "<table border=\"1\" class=\"dataframe\">\n",
       "  <thead>\n",
       "    <tr style=\"text-align: right;\">\n",
       "      <th></th>\n",
       "      <th>ID</th>\n",
       "      <th>Возраст</th>\n",
       "      <th>Доход клиента</th>\n",
       "      <th>Вероятность банкротства</th>\n",
       "      <th>Флаг утилизации счёта</th>\n",
       "      <th>Расходы</th>\n",
       "      <th>PV КК</th>\n",
       "      <th>PV услуги</th>\n",
       "      <th>NPV</th>\n",
       "    </tr>\n",
       "  </thead>\n",
       "  <tbody>\n",
       "    <tr>\n",
       "      <th>ID</th>\n",
       "      <td>1.000000</td>\n",
       "      <td>-0.002624</td>\n",
       "      <td>0.004518</td>\n",
       "      <td>0.001279</td>\n",
       "      <td>-0.000964</td>\n",
       "      <td>-0.000077</td>\n",
       "      <td>-0.003181</td>\n",
       "      <td>-0.005220</td>\n",
       "      <td>-0.003480</td>\n",
       "    </tr>\n",
       "    <tr>\n",
       "      <th>Возраст</th>\n",
       "      <td>-0.002624</td>\n",
       "      <td>1.000000</td>\n",
       "      <td>0.001514</td>\n",
       "      <td>-0.004102</td>\n",
       "      <td>0.007277</td>\n",
       "      <td>0.002460</td>\n",
       "      <td>0.003447</td>\n",
       "      <td>0.006117</td>\n",
       "      <td>0.003747</td>\n",
       "    </tr>\n",
       "    <tr>\n",
       "      <th>Доход клиента</th>\n",
       "      <td>0.004518</td>\n",
       "      <td>0.001514</td>\n",
       "      <td>1.000000</td>\n",
       "      <td>-0.000882</td>\n",
       "      <td>0.000706</td>\n",
       "      <td>0.001032</td>\n",
       "      <td>-0.002142</td>\n",
       "      <td>-0.001937</td>\n",
       "      <td>-0.002269</td>\n",
       "    </tr>\n",
       "    <tr>\n",
       "      <th>Вероятность банкротства</th>\n",
       "      <td>0.001279</td>\n",
       "      <td>-0.004102</td>\n",
       "      <td>-0.000882</td>\n",
       "      <td>1.000000</td>\n",
       "      <td>-0.215398</td>\n",
       "      <td>-0.099635</td>\n",
       "      <td>-0.043319</td>\n",
       "      <td>-0.139128</td>\n",
       "      <td>-0.049433</td>\n",
       "    </tr>\n",
       "    <tr>\n",
       "      <th>Флаг утилизации счёта</th>\n",
       "      <td>-0.000964</td>\n",
       "      <td>0.007277</td>\n",
       "      <td>0.000706</td>\n",
       "      <td>-0.215398</td>\n",
       "      <td>1.000000</td>\n",
       "      <td>0.452036</td>\n",
       "      <td>0.204981</td>\n",
       "      <td>0.646524</td>\n",
       "      <td>0.233611</td>\n",
       "    </tr>\n",
       "    <tr>\n",
       "      <th>Расходы</th>\n",
       "      <td>-0.000077</td>\n",
       "      <td>0.002460</td>\n",
       "      <td>0.001032</td>\n",
       "      <td>-0.099635</td>\n",
       "      <td>0.452036</td>\n",
       "      <td>1.000000</td>\n",
       "      <td>0.090826</td>\n",
       "      <td>0.294538</td>\n",
       "      <td>0.086146</td>\n",
       "    </tr>\n",
       "    <tr>\n",
       "      <th>PV КК</th>\n",
       "      <td>-0.003181</td>\n",
       "      <td>0.003447</td>\n",
       "      <td>-0.002142</td>\n",
       "      <td>-0.043319</td>\n",
       "      <td>0.204981</td>\n",
       "      <td>0.090826</td>\n",
       "      <td>1.000000</td>\n",
       "      <td>0.128742</td>\n",
       "      <td>0.998232</td>\n",
       "    </tr>\n",
       "    <tr>\n",
       "      <th>PV услуги</th>\n",
       "      <td>-0.005220</td>\n",
       "      <td>0.006117</td>\n",
       "      <td>-0.001937</td>\n",
       "      <td>-0.139128</td>\n",
       "      <td>0.646524</td>\n",
       "      <td>0.294538</td>\n",
       "      <td>0.128742</td>\n",
       "      <td>1.000000</td>\n",
       "      <td>0.183529</td>\n",
       "    </tr>\n",
       "    <tr>\n",
       "      <th>NPV</th>\n",
       "      <td>-0.003480</td>\n",
       "      <td>0.003747</td>\n",
       "      <td>-0.002269</td>\n",
       "      <td>-0.049433</td>\n",
       "      <td>0.233611</td>\n",
       "      <td>0.086146</td>\n",
       "      <td>0.998232</td>\n",
       "      <td>0.183529</td>\n",
       "      <td>1.000000</td>\n",
       "    </tr>\n",
       "  </tbody>\n",
       "</table>\n",
       "</div>"
      ],
      "text/plain": [
       "                               ID   Возраст  Доход клиента  \\\n",
       "ID                       1.000000 -0.002624       0.004518   \n",
       "Возраст                 -0.002624  1.000000       0.001514   \n",
       "Доход клиента            0.004518  0.001514       1.000000   \n",
       "Вероятность банкротства  0.001279 -0.004102      -0.000882   \n",
       "Флаг утилизации счёта   -0.000964  0.007277       0.000706   \n",
       "Расходы                 -0.000077  0.002460       0.001032   \n",
       "PV КК                   -0.003181  0.003447      -0.002142   \n",
       "PV услуги               -0.005220  0.006117      -0.001937   \n",
       "NPV                     -0.003480  0.003747      -0.002269   \n",
       "\n",
       "                         Вероятность банкротства  Флаг утилизации счёта  \\\n",
       "ID                                      0.001279              -0.000964   \n",
       "Возраст                                -0.004102               0.007277   \n",
       "Доход клиента                          -0.000882               0.000706   \n",
       "Вероятность банкротства                 1.000000              -0.215398   \n",
       "Флаг утилизации счёта                  -0.215398               1.000000   \n",
       "Расходы                                -0.099635               0.452036   \n",
       "PV КК                                  -0.043319               0.204981   \n",
       "PV услуги                              -0.139128               0.646524   \n",
       "NPV                                    -0.049433               0.233611   \n",
       "\n",
       "                          Расходы     PV КК  PV услуги       NPV  \n",
       "ID                      -0.000077 -0.003181  -0.005220 -0.003480  \n",
       "Возраст                  0.002460  0.003447   0.006117  0.003747  \n",
       "Доход клиента            0.001032 -0.002142  -0.001937 -0.002269  \n",
       "Вероятность банкротства -0.099635 -0.043319  -0.139128 -0.049433  \n",
       "Флаг утилизации счёта    0.452036  0.204981   0.646524  0.233611  \n",
       "Расходы                  1.000000  0.090826   0.294538  0.086146  \n",
       "PV КК                    0.090826  1.000000   0.128742  0.998232  \n",
       "PV услуги                0.294538  0.128742   1.000000  0.183529  \n",
       "NPV                      0.086146  0.998232   0.183529  1.000000  "
      ]
     },
     "execution_count": 19,
     "metadata": {},
     "output_type": "execute_result"
    }
   ],
   "source": [
    "# посмотрим на корреляцию 'Флаг утилизации счёта' с другими столбцами\n",
    "\n",
    "df_hist_card.corr()"
   ]
  },
  {
   "cell_type": "markdown",
   "id": "1abe7506",
   "metadata": {},
   "source": [
    "Нас интересуют только те параметры, которые доступны до прохода человека по процессу заявки (соц-дем, параметры скоринга): Возраст, Доход клиента, Вероятность банкротства. В качестве параметра, влияющего на целeвую метрику будем рассматривать 'Вероятность банкротства', так как у этого параметра самоя большая корреляция (-0.22) и его можно использовать для дальнейшей проверки однородности выборок."
   ]
  },
  {
   "cell_type": "markdown",
   "id": "9b40ecbb",
   "metadata": {
    "id": "9b40ecbb"
   },
   "source": [
    "### 4.1. Рассчет размера выборки"
   ]
  },
  {
   "cell_type": "code",
   "execution_count": 20,
   "id": "298fd21b",
   "metadata": {},
   "outputs": [
    {
     "name": "stdout",
     "output_type": "stream",
     "text": [
      "Размер каждой из групп для теста: 8382\n"
     ]
    }
   ],
   "source": [
    "alpha_card = 0.05   # уровень значимости\n",
    "power_card = 0.95   # мощность теста\n",
    "lift_card = 0.03    # относительный прирост \n",
    "p0 = df_hist_card['Флаг утилизации счёта'].mean()  # вероятность утилизации счета в исторических данных\n",
    "mde_card = p0 * lift_card   # mde\n",
    "\n",
    "# посчитаем размеры групп формулой для бинарного распределения и односторонней альтернативы\n",
    "\n",
    "z_alpha_card = st.norm.ppf(1 - alpha_card)\n",
    "z_beta_card = st.norm.ppf(1 - power_card) \n",
    "n_card = round(2 * p0 * (1 - p0) * (z_alpha_card - z_beta_card)**2 / mde_card**2)\n",
    "\n",
    "print(f'Размер каждой из групп для теста: {n_card}')"
   ]
  },
  {
   "cell_type": "markdown",
   "id": "b13ea8ee",
   "metadata": {
    "id": "b13ea8ee"
   },
   "source": [
    "### 4.2. Запрос у бота в Телеграме выборку командой `/get_project2_sample {размер выборки}` и вписать код выборки"
   ]
  },
  {
   "cell_type": "code",
   "execution_count": 21,
   "id": "F5c-oqIBjVJS",
   "metadata": {
    "id": "F5c-oqIBjVJS"
   },
   "outputs": [],
   "source": [
    "cod_v_card = 56882  # код выборки "
   ]
  },
  {
   "cell_type": "code",
   "execution_count": 22,
   "id": "842a5f85",
   "metadata": {},
   "outputs": [],
   "source": [
    "# Файлы для теста\n",
    "\n",
    "df_a_card = pd.read_csv('Контроль (1).csv')\n",
    "df_b_card = pd.read_csv('Тест (1).csv')"
   ]
  },
  {
   "cell_type": "code",
   "execution_count": 23,
   "id": "705f81f1",
   "metadata": {},
   "outputs": [
    {
     "name": "stdout",
     "output_type": "stream",
     "text": [
      "<class 'pandas.core.frame.DataFrame'>\n",
      "RangeIndex: 8382 entries, 0 to 8381\n",
      "Data columns (total 9 columns):\n",
      " #   Column                   Non-Null Count  Dtype  \n",
      "---  ------                   --------------  -----  \n",
      " 0   ID                       8382 non-null   int64  \n",
      " 1   Возраст                  8382 non-null   int64  \n",
      " 2   Доход клиента            8382 non-null   float64\n",
      " 3   Вероятность банкротства  8382 non-null   float64\n",
      " 4   Флаг утилизации счёта    8382 non-null   int64  \n",
      " 5   Расходы                  8382 non-null   int64  \n",
      " 6   PV КК                    8382 non-null   int64  \n",
      " 7   PV услуги                8382 non-null   int64  \n",
      " 8   NPV                      8382 non-null   int64  \n",
      "dtypes: float64(2), int64(7)\n",
      "memory usage: 589.5 KB\n"
     ]
    }
   ],
   "source": [
    "df_a_card.info()"
   ]
  },
  {
   "cell_type": "code",
   "execution_count": 24,
   "id": "38c8d746",
   "metadata": {},
   "outputs": [
    {
     "data": {
      "text/html": [
       "<div>\n",
       "<style scoped>\n",
       "    .dataframe tbody tr th:only-of-type {\n",
       "        vertical-align: middle;\n",
       "    }\n",
       "\n",
       "    .dataframe tbody tr th {\n",
       "        vertical-align: top;\n",
       "    }\n",
       "\n",
       "    .dataframe thead th {\n",
       "        text-align: right;\n",
       "    }\n",
       "</style>\n",
       "<table border=\"1\" class=\"dataframe\">\n",
       "  <thead>\n",
       "    <tr style=\"text-align: right;\">\n",
       "      <th></th>\n",
       "      <th>count</th>\n",
       "      <th>mean</th>\n",
       "      <th>std</th>\n",
       "      <th>min</th>\n",
       "      <th>25%</th>\n",
       "      <th>50%</th>\n",
       "      <th>75%</th>\n",
       "      <th>max</th>\n",
       "    </tr>\n",
       "  </thead>\n",
       "  <tbody>\n",
       "    <tr>\n",
       "      <th>ID</th>\n",
       "      <td>8382.0</td>\n",
       "      <td>4190.500000</td>\n",
       "      <td>2419.819311</td>\n",
       "      <td>0.000000e+00</td>\n",
       "      <td>2095.250000</td>\n",
       "      <td>4190.500000</td>\n",
       "      <td>6285.750000</td>\n",
       "      <td>8381.000000</td>\n",
       "    </tr>\n",
       "    <tr>\n",
       "      <th>Возраст</th>\n",
       "      <td>8382.0</td>\n",
       "      <td>39.740754</td>\n",
       "      <td>16.445009</td>\n",
       "      <td>1.800000e+01</td>\n",
       "      <td>25.000000</td>\n",
       "      <td>36.000000</td>\n",
       "      <td>52.000000</td>\n",
       "      <td>75.000000</td>\n",
       "    </tr>\n",
       "    <tr>\n",
       "      <th>Доход клиента</th>\n",
       "      <td>8382.0</td>\n",
       "      <td>30037.629819</td>\n",
       "      <td>17091.332881</td>\n",
       "      <td>2.000018e+04</td>\n",
       "      <td>22035.962092</td>\n",
       "      <td>25202.141111</td>\n",
       "      <td>31414.181071</td>\n",
       "      <td>456300.012436</td>\n",
       "    </tr>\n",
       "    <tr>\n",
       "      <th>Вероятность банкротства</th>\n",
       "      <td>8382.0</td>\n",
       "      <td>0.125725</td>\n",
       "      <td>0.110928</td>\n",
       "      <td>5.090969e-07</td>\n",
       "      <td>0.041128</td>\n",
       "      <td>0.094759</td>\n",
       "      <td>0.178834</td>\n",
       "      <td>0.782285</td>\n",
       "    </tr>\n",
       "    <tr>\n",
       "      <th>Флаг утилизации счёта</th>\n",
       "      <td>8382.0</td>\n",
       "      <td>0.740873</td>\n",
       "      <td>0.438181</td>\n",
       "      <td>0.000000e+00</td>\n",
       "      <td>0.000000</td>\n",
       "      <td>1.000000</td>\n",
       "      <td>1.000000</td>\n",
       "      <td>1.000000</td>\n",
       "    </tr>\n",
       "    <tr>\n",
       "      <th>Расходы</th>\n",
       "      <td>8382.0</td>\n",
       "      <td>414.740754</td>\n",
       "      <td>472.917087</td>\n",
       "      <td>0.000000e+00</td>\n",
       "      <td>72.000000</td>\n",
       "      <td>250.000000</td>\n",
       "      <td>593.000000</td>\n",
       "      <td>4805.000000</td>\n",
       "    </tr>\n",
       "    <tr>\n",
       "      <th>PV КК</th>\n",
       "      <td>8382.0</td>\n",
       "      <td>7485.761632</td>\n",
       "      <td>16345.304276</td>\n",
       "      <td>0.000000e+00</td>\n",
       "      <td>0.000000</td>\n",
       "      <td>6257.000000</td>\n",
       "      <td>8677.000000</td>\n",
       "      <td>883230.000000</td>\n",
       "    </tr>\n",
       "    <tr>\n",
       "      <th>PV услуги</th>\n",
       "      <td>8382.0</td>\n",
       "      <td>1473.816989</td>\n",
       "      <td>1250.154550</td>\n",
       "      <td>0.000000e+00</td>\n",
       "      <td>0.000000</td>\n",
       "      <td>1521.000000</td>\n",
       "      <td>1916.000000</td>\n",
       "      <td>32747.000000</td>\n",
       "    </tr>\n",
       "    <tr>\n",
       "      <th>NPV</th>\n",
       "      <td>8382.0</td>\n",
       "      <td>8544.837867</td>\n",
       "      <td>16566.422424</td>\n",
       "      <td>-3.910000e+02</td>\n",
       "      <td>-1.000000</td>\n",
       "      <td>7667.000000</td>\n",
       "      <td>10275.750000</td>\n",
       "      <td>884810.000000</td>\n",
       "    </tr>\n",
       "  </tbody>\n",
       "</table>\n",
       "</div>"
      ],
      "text/plain": [
       "                          count          mean           std           min  \\\n",
       "ID                       8382.0   4190.500000   2419.819311  0.000000e+00   \n",
       "Возраст                  8382.0     39.740754     16.445009  1.800000e+01   \n",
       "Доход клиента            8382.0  30037.629819  17091.332881  2.000018e+04   \n",
       "Вероятность банкротства  8382.0      0.125725      0.110928  5.090969e-07   \n",
       "Флаг утилизации счёта    8382.0      0.740873      0.438181  0.000000e+00   \n",
       "Расходы                  8382.0    414.740754    472.917087  0.000000e+00   \n",
       "PV КК                    8382.0   7485.761632  16345.304276  0.000000e+00   \n",
       "PV услуги                8382.0   1473.816989   1250.154550  0.000000e+00   \n",
       "NPV                      8382.0   8544.837867  16566.422424 -3.910000e+02   \n",
       "\n",
       "                                  25%           50%           75%  \\\n",
       "ID                        2095.250000   4190.500000   6285.750000   \n",
       "Возраст                     25.000000     36.000000     52.000000   \n",
       "Доход клиента            22035.962092  25202.141111  31414.181071   \n",
       "Вероятность банкротства      0.041128      0.094759      0.178834   \n",
       "Флаг утилизации счёта        0.000000      1.000000      1.000000   \n",
       "Расходы                     72.000000    250.000000    593.000000   \n",
       "PV КК                        0.000000   6257.000000   8677.000000   \n",
       "PV услуги                    0.000000   1521.000000   1916.000000   \n",
       "NPV                         -1.000000   7667.000000  10275.750000   \n",
       "\n",
       "                                   max  \n",
       "ID                         8381.000000  \n",
       "Возраст                      75.000000  \n",
       "Доход клиента            456300.012436  \n",
       "Вероятность банкротства       0.782285  \n",
       "Флаг утилизации счёта         1.000000  \n",
       "Расходы                    4805.000000  \n",
       "PV КК                    883230.000000  \n",
       "PV услуги                 32747.000000  \n",
       "NPV                      884810.000000  "
      ]
     },
     "execution_count": 24,
     "metadata": {},
     "output_type": "execute_result"
    }
   ],
   "source": [
    "df_a_card.describe().T"
   ]
  },
  {
   "cell_type": "code",
   "execution_count": 25,
   "id": "44300071",
   "metadata": {},
   "outputs": [
    {
     "name": "stdout",
     "output_type": "stream",
     "text": [
      "<class 'pandas.core.frame.DataFrame'>\n",
      "RangeIndex: 8382 entries, 0 to 8381\n",
      "Data columns (total 9 columns):\n",
      " #   Column                   Non-Null Count  Dtype  \n",
      "---  ------                   --------------  -----  \n",
      " 0   ID                       8382 non-null   int64  \n",
      " 1   Возраст                  8382 non-null   int64  \n",
      " 2   Доход клиента            8382 non-null   float64\n",
      " 3   Вероятность банкротства  8382 non-null   float64\n",
      " 4   Флаг утилизации счёта    8382 non-null   int64  \n",
      " 5   Расходы                  8382 non-null   int64  \n",
      " 6   PV КК                    8382 non-null   int64  \n",
      " 7   PV услуги                8382 non-null   int64  \n",
      " 8   NPV                      8382 non-null   int64  \n",
      "dtypes: float64(2), int64(7)\n",
      "memory usage: 589.5 KB\n"
     ]
    }
   ],
   "source": [
    "df_b_card.info()"
   ]
  },
  {
   "cell_type": "code",
   "execution_count": 26,
   "id": "ed771bb3",
   "metadata": {},
   "outputs": [
    {
     "data": {
      "text/html": [
       "<div>\n",
       "<style scoped>\n",
       "    .dataframe tbody tr th:only-of-type {\n",
       "        vertical-align: middle;\n",
       "    }\n",
       "\n",
       "    .dataframe tbody tr th {\n",
       "        vertical-align: top;\n",
       "    }\n",
       "\n",
       "    .dataframe thead th {\n",
       "        text-align: right;\n",
       "    }\n",
       "</style>\n",
       "<table border=\"1\" class=\"dataframe\">\n",
       "  <thead>\n",
       "    <tr style=\"text-align: right;\">\n",
       "      <th></th>\n",
       "      <th>count</th>\n",
       "      <th>mean</th>\n",
       "      <th>std</th>\n",
       "      <th>min</th>\n",
       "      <th>25%</th>\n",
       "      <th>50%</th>\n",
       "      <th>75%</th>\n",
       "      <th>max</th>\n",
       "    </tr>\n",
       "  </thead>\n",
       "  <tbody>\n",
       "    <tr>\n",
       "      <th>ID</th>\n",
       "      <td>8382.0</td>\n",
       "      <td>4190.500000</td>\n",
       "      <td>2419.819311</td>\n",
       "      <td>0.000000</td>\n",
       "      <td>2095.250000</td>\n",
       "      <td>4190.500000</td>\n",
       "      <td>6285.750000</td>\n",
       "      <td>8.381000e+03</td>\n",
       "    </tr>\n",
       "    <tr>\n",
       "      <th>Возраст</th>\n",
       "      <td>8382.0</td>\n",
       "      <td>39.871630</td>\n",
       "      <td>16.604088</td>\n",
       "      <td>18.000000</td>\n",
       "      <td>25.000000</td>\n",
       "      <td>37.000000</td>\n",
       "      <td>53.000000</td>\n",
       "      <td>7.500000e+01</td>\n",
       "    </tr>\n",
       "    <tr>\n",
       "      <th>Доход клиента</th>\n",
       "      <td>8382.0</td>\n",
       "      <td>29703.569358</td>\n",
       "      <td>18431.707621</td>\n",
       "      <td>20000.262678</td>\n",
       "      <td>22066.827136</td>\n",
       "      <td>25032.027765</td>\n",
       "      <td>31482.859456</td>\n",
       "      <td>1.074573e+06</td>\n",
       "    </tr>\n",
       "    <tr>\n",
       "      <th>Вероятность банкротства</th>\n",
       "      <td>8382.0</td>\n",
       "      <td>0.125455</td>\n",
       "      <td>0.110929</td>\n",
       "      <td>0.000012</td>\n",
       "      <td>0.040237</td>\n",
       "      <td>0.093504</td>\n",
       "      <td>0.181008</td>\n",
       "      <td>7.216904e-01</td>\n",
       "    </tr>\n",
       "    <tr>\n",
       "      <th>Флаг утилизации счёта</th>\n",
       "      <td>8382.0</td>\n",
       "      <td>0.762944</td>\n",
       "      <td>0.425302</td>\n",
       "      <td>0.000000</td>\n",
       "      <td>1.000000</td>\n",
       "      <td>1.000000</td>\n",
       "      <td>1.000000</td>\n",
       "      <td>1.000000e+00</td>\n",
       "    </tr>\n",
       "    <tr>\n",
       "      <th>Расходы</th>\n",
       "      <td>8382.0</td>\n",
       "      <td>429.944285</td>\n",
       "      <td>487.973090</td>\n",
       "      <td>0.000000</td>\n",
       "      <td>80.250000</td>\n",
       "      <td>263.000000</td>\n",
       "      <td>612.000000</td>\n",
       "      <td>4.934000e+03</td>\n",
       "    </tr>\n",
       "    <tr>\n",
       "      <th>PV КК</th>\n",
       "      <td>8382.0</td>\n",
       "      <td>7732.363994</td>\n",
       "      <td>13013.176214</td>\n",
       "      <td>0.000000</td>\n",
       "      <td>5279.000000</td>\n",
       "      <td>6412.000000</td>\n",
       "      <td>8986.750000</td>\n",
       "      <td>7.287190e+05</td>\n",
       "    </tr>\n",
       "    <tr>\n",
       "      <th>PV услуги</th>\n",
       "      <td>8382.0</td>\n",
       "      <td>1519.006323</td>\n",
       "      <td>1247.155170</td>\n",
       "      <td>0.000000</td>\n",
       "      <td>1339.000000</td>\n",
       "      <td>1524.000000</td>\n",
       "      <td>1929.000000</td>\n",
       "      <td>2.967000e+04</td>\n",
       "    </tr>\n",
       "    <tr>\n",
       "      <th>NPV</th>\n",
       "      <td>8382.0</td>\n",
       "      <td>8821.426032</td>\n",
       "      <td>13262.817870</td>\n",
       "      <td>-463.000000</td>\n",
       "      <td>5771.000000</td>\n",
       "      <td>7847.000000</td>\n",
       "      <td>10584.500000</td>\n",
       "      <td>7.297540e+05</td>\n",
       "    </tr>\n",
       "  </tbody>\n",
       "</table>\n",
       "</div>"
      ],
      "text/plain": [
       "                          count          mean           std           min  \\\n",
       "ID                       8382.0   4190.500000   2419.819311      0.000000   \n",
       "Возраст                  8382.0     39.871630     16.604088     18.000000   \n",
       "Доход клиента            8382.0  29703.569358  18431.707621  20000.262678   \n",
       "Вероятность банкротства  8382.0      0.125455      0.110929      0.000012   \n",
       "Флаг утилизации счёта    8382.0      0.762944      0.425302      0.000000   \n",
       "Расходы                  8382.0    429.944285    487.973090      0.000000   \n",
       "PV КК                    8382.0   7732.363994  13013.176214      0.000000   \n",
       "PV услуги                8382.0   1519.006323   1247.155170      0.000000   \n",
       "NPV                      8382.0   8821.426032  13262.817870   -463.000000   \n",
       "\n",
       "                                  25%           50%           75%  \\\n",
       "ID                        2095.250000   4190.500000   6285.750000   \n",
       "Возраст                     25.000000     37.000000     53.000000   \n",
       "Доход клиента            22066.827136  25032.027765  31482.859456   \n",
       "Вероятность банкротства      0.040237      0.093504      0.181008   \n",
       "Флаг утилизации счёта        1.000000      1.000000      1.000000   \n",
       "Расходы                     80.250000    263.000000    612.000000   \n",
       "PV КК                     5279.000000   6412.000000   8986.750000   \n",
       "PV услуги                 1339.000000   1524.000000   1929.000000   \n",
       "NPV                       5771.000000   7847.000000  10584.500000   \n",
       "\n",
       "                                  max  \n",
       "ID                       8.381000e+03  \n",
       "Возраст                  7.500000e+01  \n",
       "Доход клиента            1.074573e+06  \n",
       "Вероятность банкротства  7.216904e-01  \n",
       "Флаг утилизации счёта    1.000000e+00  \n",
       "Расходы                  4.934000e+03  \n",
       "PV КК                    7.287190e+05  \n",
       "PV услуги                2.967000e+04  \n",
       "NPV                      7.297540e+05  "
      ]
     },
     "execution_count": 26,
     "metadata": {},
     "output_type": "execute_result"
    }
   ],
   "source": [
    "df_b_card.describe().T"
   ]
  },
  {
   "cell_type": "markdown",
   "id": "f6945c8f",
   "metadata": {
    "id": "f6945c8f"
   },
   "source": [
    "### 5. Проверка на однородность, применение критерия. Принятие решения. "
   ]
  },
  {
   "cell_type": "markdown",
   "id": "aef37c80",
   "metadata": {},
   "source": [
    "Для проверки однородности будем использовать критерий anderson_ksamp, в качестве параметра - 'Вероятность банкротства'\n",
    "\n",
    "$H_0: F = G$\n",
    "\n",
    "$H_1: F \\neq G$"
   ]
  },
  {
   "cell_type": "code",
   "execution_count": 30,
   "id": "LVlEnA4DjWp5",
   "metadata": {
    "id": "LVlEnA4DjWp5"
   },
   "outputs": [
    {
     "name": "stdout",
     "output_type": "stream",
     "text": [
      "Не получилось отвергнуть нулевую гипотезу, \n",
      "p_value = 0.25,\n",
      "Вероятность банкротства в группе А: 0.1257252928715859,\n",
      "Вероятность банкротства в группе B: 0.12545513460342744)\n"
     ]
    },
    {
     "name": "stderr",
     "output_type": "stream",
     "text": [
      "/var/folders/nz/rwcnsk891c79hvd5q73_5xfr0000gn/T/ipykernel_8993/2284598100.py:3: UserWarning: p-value capped: true value larger than 0.25\n",
      "  test_stat, _, p_value = (anderson_ksamp(\n"
     ]
    }
   ],
   "source": [
    "alpha_anderson_ksamp = 0.02   # уровень значимости из условия\n",
    "\n",
    "test_stat, _, p_value = (anderson_ksamp(\n",
    "    [np.array(df_a_card['Вероятность банкротства']), np.array(df_b_card['Вероятность банкротства'])])\n",
    ")\n",
    "\n",
    "if p_value < alpha_anderson_ksamp:\n",
    "    print(f\"\"\"Отвергаем нулевую гипотезу, \n",
    "p_value = {p_value}, \n",
    "Вероятность банкротства в группе А: {df_a_card['Вероятность банкротства'].mean()},\n",
    "Вероятность банкротства в группе B: {df_b_card['Вероятность банкротства'].mean()}\"\"\")\n",
    "else:\n",
    "    print(f\"\"\"Не получилось отвергнуть нулевую гипотезу, \n",
    "p_value = {p_value},\n",
    "Вероятность банкротства в группе А: {df_a_card['Вероятность банкротства'].mean()},\n",
    "Вероятность банкротства в группе B: {df_b_card['Вероятность банкротства'].mean()})\"\"\")"
   ]
  },
  {
   "cell_type": "markdown",
   "id": "0317e273",
   "metadata": {},
   "source": [
    "Делаем вывод, что выборки однородны, можно проводить A/B тест."
   ]
  },
  {
   "cell_type": "code",
   "execution_count": 28,
   "id": "a0401556",
   "metadata": {},
   "outputs": [
    {
     "name": "stdout",
     "output_type": "stream",
     "text": [
      "Отвергаем нулевую гипотезу, \n",
      "p_value = 0.00046945144502257095, \n",
      "процент утилизированных карт в группе А: 74.0873299928418,\n",
      "процент утилизированных карт в группе B: 76.2944404676688\n"
     ]
    }
   ],
   "source": [
    "# В качестве критерия для теста будем использовать proportions_ztest с односторонней альтернативой\n",
    "\n",
    "a_success = df_a_card['Флаг утилизации счёта'].sum() # кол-во утилизаций в группе А\n",
    "b_success = df_b_card['Флаг утилизации счёта'].sum() # кол-во утилизаций в группе В\n",
    "a_cnt = df_a_card['Флаг утилизации счёта'].count() # общее кол-во в группе А\n",
    "b_cnt = df_b_card['Флаг утилизации счёта'].count() # общее кол-во в группе В\n",
    "\n",
    "# proportions_ztest с alternative='smaller'\n",
    "\n",
    "_, p_value = proportions_ztest([a_success, b_success], [a_cnt, b_cnt], alternative='smaller')\n",
    "\n",
    "if p_value < alpha_card:\n",
    "    print(f\"\"\"Отвергаем нулевую гипотезу, \n",
    "p_value = {p_value}, \n",
    "процент утилизированных карт в группе А: {a_success / a_cnt * 100},\n",
    "процент утилизированных карт в группе B: {b_success / b_cnt * 100}\"\"\")\n",
    "else:\n",
    "    print(f\"\"\"Не получилось отвергнуть нулевую гипотезу, \n",
    "p_value = {p_value}, \n",
    "процент утилизированных карт в группе А: {a_success / a_cnt * 100},\n",
    "процент утилизированных карт в группе B: {b_success / b_cnt * 100}\"\"\")"
   ]
  },
  {
   "cell_type": "markdown",
   "id": "33f1037b",
   "metadata": {},
   "source": [
    "<div style=\"border:solid green 2px; padding: 20px\"> \n",
    "<b>Вывод по заданию 2:</b> \n",
    "    \n",
    "Тест на однородность с параметром 'Вероятность банкротства' показал, что выборки пригодны для А/В теста. p-value из proportions_ztest меньше 0.05, следовательно мы отклоняем гипотезу H0 и делаем вывод, что новый процесс авторизации действительно позволяет повысить утилизации наших счетов.\n",
    "\n",
    "</div>"
   ]
  }
 ],
 "metadata": {
  "colab": {
   "provenance": []
  },
  "kernelspec": {
   "display_name": "Python 3 (ipykernel)",
   "language": "python",
   "name": "python3"
  },
  "language_info": {
   "codemirror_mode": {
    "name": "ipython",
    "version": 3
   },
   "file_extension": ".py",
   "mimetype": "text/x-python",
   "name": "python",
   "nbconvert_exporter": "python",
   "pygments_lexer": "ipython3",
   "version": "3.9.13"
  }
 },
 "nbformat": 4,
 "nbformat_minor": 5
}
